{
 "cells": [
  {
   "cell_type": "code",
   "execution_count": null,
   "id": "ef5dfe0b",
   "metadata": {},
   "outputs": [],
   "source": [
    "import pandas as pd\n",
    "import numpy as np\n",
    "import matplotlib.pyplot as plt\n",
    "import seaborn as sns\n",
    "import warnings\n",
    "from collections import Counter\n",
    "warnings.filterwarnings(\"ignore\")"
   ]
  },
  {
   "cell_type": "code",
   "execution_count": null,
   "id": "a3b3ff7d",
   "metadata": {},
   "outputs": [],
   "source": [
    "d=\"C:\\\\deha\\\\deha\\\\dataset\\\\titanic\"\n",
    "df_train=pd.read_csv(d+\"\\\\train.csv\")\n",
    "df_test=pd.read_csv(d+\"\\\\test.csv\")"
   ]
  },
  {
   "cell_type": "code",
   "execution_count": null,
   "id": "f8d9b33b",
   "metadata": {},
   "outputs": [],
   "source": [
    "df_train.columns"
   ]
  },
  {
   "cell_type": "code",
   "execution_count": null,
   "id": "80ef6d0a",
   "metadata": {},
   "outputs": [],
   "source": [
    "df_train.head()"
   ]
  },
  {
   "cell_type": "code",
   "execution_count": null,
   "id": "2840f36e",
   "metadata": {},
   "outputs": [],
   "source": [
    "df_train.describe()"
   ]
  },
  {
   "cell_type": "code",
   "execution_count": null,
   "id": "78e8004f",
   "metadata": {},
   "outputs": [],
   "source": [
    "df_train.info()"
   ]
  },
  {
   "cell_type": "code",
   "execution_count": null,
   "id": "94ac410d",
   "metadata": {},
   "outputs": [],
   "source": [
    "#Numerical Variables:PassengerID, Fare,Age\n",
    "#Categorical Variables:Survived,Pclass,Ticket,Cabin,Embarked,Name,Sex,Sibsp,Parch"
   ]
  },
  {
   "cell_type": "code",
   "execution_count": null,
   "id": "349a6dc1",
   "metadata": {},
   "outputs": [],
   "source": [
    "def barplot(v):\n",
    "    var=df_train[v]\n",
    "    value=var.value_counts()\n",
    "    plt.figure(figsize=(10,5))\n",
    "    plt.bar(value.index,value,color=\"Pink\")\n",
    "    plt.title(v)\n",
    "    plt.show()\n",
    "    print(v,\":\\n\",value)\n",
    "col=[\"Sex\",\"SibSp\",\"Pclass\",\"Embarked\",\"Parch\",\"Survived\"]\n",
    "for i in col:\n",
    "    barplot(i)"
   ]
  },
  {
   "cell_type": "code",
   "execution_count": null,
   "id": "21e03cd3",
   "metadata": {},
   "outputs": [],
   "source": [
    "def histo(v):\n",
    "    plt.figure(figsize=(9,3))\n",
    "    plt.hist(df_train[v],bins=50)\n",
    "    plt.xlabel(v)\n",
    "    plt.ylabel(\"Frequency\")\n",
    "    plt.show()\n",
    "numcol=[\"Age\",\"Fare\",\"PassengerId\"]\n",
    "for i in numcol:\n",
    "    histo(i)"
   ]
  },
  {
   "cell_type": "code",
   "execution_count": null,
   "id": "45215845",
   "metadata": {},
   "outputs": [],
   "source": [
    "#Basic Data Analysis"
   ]
  },
  {
   "cell_type": "code",
   "execution_count": null,
   "id": "6191ab23",
   "metadata": {},
   "outputs": [],
   "source": [
    "#Pclass--Survived\n",
    "df_train[[\"Pclass\",\"Survived\"]].groupby([\"Pclass\"],as_index=False).mean().sort_values(by=\"Survived\",ascending=False)"
   ]
  },
  {
   "cell_type": "code",
   "execution_count": null,
   "id": "9d12b316",
   "metadata": {},
   "outputs": [],
   "source": [
    "#Sex--Survived\n",
    "df_train[[\"Sex\",\"Survived\"]].groupby([\"Sex\"],as_index=False).mean().sort_values(by=\"Survived\",ascending=False)"
   ]
  },
  {
   "cell_type": "code",
   "execution_count": null,
   "id": "76593968",
   "metadata": {},
   "outputs": [],
   "source": [
    "#SibSp--Survived\n",
    "df_train[[\"SibSp\",\"Survived\"]].groupby([\"SibSp\"],as_index=False).mean().sort_values(by=\"Survived\",ascending=False)"
   ]
  },
  {
   "cell_type": "code",
   "execution_count": null,
   "id": "a1c118d0",
   "metadata": {},
   "outputs": [],
   "source": [
    "#Parch--Survived\n",
    "df_train[[\"Parch\",\"Survived\"]].groupby([\"Parch\"],as_index=False).mean().sort_values(by=\"Survived\",ascending=False)"
   ]
  },
  {
   "cell_type": "code",
   "execution_count": null,
   "id": "f76e44c6",
   "metadata": {},
   "outputs": [],
   "source": [
    "#Outlier Detection"
   ]
  },
  {
   "cell_type": "code",
   "execution_count": null,
   "id": "8bf0442c",
   "metadata": {},
   "outputs": [],
   "source": [
    "def outlier(df_train,features):\n",
    "    outlier_indices=[]\n",
    "    for i in features:\n",
    "        q1=np.percentile(df_train[i],25)\n",
    "        q3=np.percentile(df_train[i],75)\n",
    "        iqr=q3-q1\n",
    "        step=iqr*1.5\n",
    "        outliers=df_train[(df_train[i]<q1-step)|(df_train[i]>q3+step)].index\n",
    "        outlier_indices.extend(outliers)\n",
    "    outlier_indices=Counter(outlier_indices)\n",
    "    mul_outliers=list(i for i,j in outlier_indices.items() if j>2)\n",
    "    return mul_outliers\n",
    "df_train.loc[outlier(df_train,[\"Age\",\"Fare\",\"SibSp\",\"Parch\"])]"
   ]
  },
  {
   "cell_type": "code",
   "execution_count": null,
   "id": "5da0f5a9",
   "metadata": {},
   "outputs": [],
   "source": [
    "#drop outliers\n",
    "df_train=df_train.drop(outlier(df_train,[\"Age\",\"Fare\",\"SibSp\",\"Parch\"]),axis=0).reset_index(drop=True)"
   ]
  },
  {
   "cell_type": "code",
   "execution_count": null,
   "id": "0acae814",
   "metadata": {},
   "outputs": [],
   "source": [
    "#Find missing values:"
   ]
  },
  {
   "cell_type": "code",
   "execution_count": null,
   "id": "5be98c4d",
   "metadata": {},
   "outputs": [],
   "source": [
    "df_train.isnull().sum()"
   ]
  },
  {
   "cell_type": "code",
   "execution_count": null,
   "id": "274b4092",
   "metadata": {},
   "outputs": [],
   "source": [
    "df_train[df_train[\"Embarked\"].isnull()]"
   ]
  },
  {
   "cell_type": "code",
   "execution_count": null,
   "id": "068c3a7a",
   "metadata": {},
   "outputs": [],
   "source": [
    "df_train.boxplot(column=\"Fare\",by=\"Embarked\")\n",
    "plt.show()"
   ]
  },
  {
   "cell_type": "code",
   "execution_count": null,
   "id": "1074e665",
   "metadata": {},
   "outputs": [],
   "source": [
    "df_train[\"Embarked\"]=df_train[\"Embarked\"].fillna(\"C\")\n",
    "df_train[df_train[\"Embarked\"].isnull()]"
   ]
  },
  {
   "cell_type": "code",
   "execution_count": null,
   "id": "25af8b57",
   "metadata": {},
   "outputs": [],
   "source": [
    "df_train[df_train[\"Fare\"].isnull()]\n",
    "#df_train[\"Fare\"] =df_train[\"Fare\"].fillna(np.mean(df_train[df_train[\"Pclass\"] == 3][\"Fare\"]))\n",
    "#according to the data's pclass"
   ]
  },
  {
   "cell_type": "code",
   "execution_count": null,
   "id": "cb0d564b",
   "metadata": {},
   "outputs": [],
   "source": [
    "#visulaization"
   ]
  },
  {
   "cell_type": "code",
   "execution_count": null,
   "id": "0a5f54ae",
   "metadata": {},
   "outputs": [],
   "source": [
    "#correlation\n",
    "\n",
    "colist=[\"SibSp\",\"Parch\",\"Age\",\"Fare\",\"Survived\"]\n",
    "sns.heatmap(df_train[colist].corr(),annot=True)#fmt=\".2f\"\n",
    "plt.show()"
   ]
  },
  {
   "cell_type": "code",
   "execution_count": null,
   "id": "0d20429a",
   "metadata": {},
   "outputs": [],
   "source": [
    "#SibSp-----Survived"
   ]
  },
  {
   "cell_type": "code",
   "execution_count": null,
   "id": "a0d07674",
   "metadata": {},
   "outputs": [],
   "source": [
    "sns.catplot(x=\"SibSp\",y=\"Survived\",data=df_train,kind=\"bar\")\n",
    "plt.show()"
   ]
  },
  {
   "cell_type": "code",
   "execution_count": null,
   "id": "f8465b57",
   "metadata": {},
   "outputs": [],
   "source": [
    "sns.catplot(x=\"Pclass\",y=\"Survived\",data=df_train,kind=\"bar\")\n",
    "plt.show()"
   ]
  },
  {
   "cell_type": "code",
   "execution_count": null,
   "id": "9d67fb01",
   "metadata": {},
   "outputs": [],
   "source": [
    "com=sns.FacetGrid(df_train,col=\"Survived\")\n",
    "com.map(sns.distplot,\"Age\",bins=25)\n",
    "plt.show()"
   ]
  },
  {
   "cell_type": "code",
   "execution_count": null,
   "id": "1af42124",
   "metadata": {},
   "outputs": [],
   "source": [
    "com=sns.FacetGrid(df_train,col=\"Survived\",row=\"Pclass\")\n",
    "com.map(sns.histplot,\"Age\",bins=25)\n",
    "plt.show()\n",
    "#pclass is an important feature"
   ]
  },
  {
   "cell_type": "code",
   "execution_count": null,
   "id": "8dcc0221",
   "metadata": {},
   "outputs": [],
   "source": [
    "#Embarked--Sex--Pclass--Survived"
   ]
  },
  {
   "cell_type": "code",
   "execution_count": null,
   "id": "3514986b",
   "metadata": {},
   "outputs": [],
   "source": [
    "com=sns.FacetGrid(df_train,col=\"Embarked\")\n",
    "com.map(sns.pointplot,\"Pclass\",\"Survived\",\"Sex\")\n",
    "com.add_legend()\n",
    "plt.show()\n",
    "#Embarked and Sex will be used in training"
   ]
  },
  {
   "cell_type": "code",
   "execution_count": null,
   "id": "810639d7",
   "metadata": {},
   "outputs": [],
   "source": [
    "#Embarked--Sex--Fare--Survived"
   ]
  },
  {
   "cell_type": "code",
   "execution_count": null,
   "id": "b5de1838",
   "metadata": {},
   "outputs": [],
   "source": [
    "com=sns.FacetGrid(df_train,row=\"Embarked\",col=\"Survived\")\n",
    "com.map(sns.barplot,\"Sex\",\"Fare\")\n",
    "com.add_legend()\n",
    "plt.show()\n",
    "#higher fare,higher survival rate ---- fare can be used as categorical for training"
   ]
  },
  {
   "cell_type": "code",
   "execution_count": null,
   "id": "668a3ca3",
   "metadata": {},
   "outputs": [],
   "source": [
    "#Fill Missing :Age Feature"
   ]
  },
  {
   "cell_type": "code",
   "execution_count": null,
   "id": "561f54fc",
   "metadata": {},
   "outputs": [],
   "source": [
    "df_train[df_train[\"Age\"].isnull()]"
   ]
  },
  {
   "cell_type": "code",
   "execution_count": null,
   "id": "353968ec",
   "metadata": {},
   "outputs": [],
   "source": [
    "#sns.catplot(x=\"Sex\",y=\"Age\",data=df_train,kind=\"box\")\n",
    "sns.boxplot(x=\"Sex\",y=\"Age\",data=df_train)\n",
    "plt.show()\n",
    "#Sex is not informative since it seems to be same for both male and female"
   ]
  },
  {
   "cell_type": "code",
   "execution_count": null,
   "id": "86332415",
   "metadata": {},
   "outputs": [],
   "source": [
    "#sns.catplot(x=\"Sex\",y=\"Age\",hue=\"Pclass\",data=df_train,kind=\"box\")\n",
    "sns.boxplot(x=\"Sex\",y=\"Age\",hue=\"Pclass\",data=df_train)\n",
    "plt.show()\n",
    "#1 st class are older than 2nd and 2nd are older than 3rd."
   ]
  },
  {
   "cell_type": "code",
   "execution_count": null,
   "id": "a1f2a315",
   "metadata": {},
   "outputs": [],
   "source": [
    "sns.catplot(x = \"Parch\", y = \"Age\", data = df_train, kind = \"box\")\n",
    "sns.catplot(x = \"SibSp\", y = \"Age\", data = df_train, kind = \"box\")\n",
    "plt.show()"
   ]
  },
  {
   "cell_type": "code",
   "execution_count": null,
   "id": "513a263d",
   "metadata": {},
   "outputs": [],
   "source": [
    "index_null=list(df_train[\"Age\"][df_train[\"Age\"].isnull()].index)\n",
    "for i in index_null:\n",
    "    age_pred = df_train[\"Age\"][((df_train[\"SibSp\"] == df_train.iloc[i][\"SibSp\"]) &(df_train[\"Parch\"] == df_train.iloc[i][\"Parch\"])& (df_train[\"Pclass\"] ==df_train.iloc[i][\"Pclass\"]))].median()\n",
    "    age_med=df_train[\"Age\"].median()\n",
    "    if not np.isnan(age_pred):\n",
    "        df_train[\"Age\"].iloc[i]=age_pred\n",
    "    else:\n",
    "        df_train[\"Age\"].iloc[i]=age_med"
   ]
  },
  {
   "cell_type": "code",
   "execution_count": null,
   "id": "f903e386",
   "metadata": {},
   "outputs": [],
   "source": [
    "df_train[df_train[\"Age\"].isnull()]"
   ]
  },
  {
   "cell_type": "code",
   "execution_count": null,
   "id": "508adbbe",
   "metadata": {},
   "outputs": [],
   "source": [
    "#Feature Engineering"
   ]
  },
  {
   "cell_type": "code",
   "execution_count": null,
   "id": "8fba6425",
   "metadata": {},
   "outputs": [],
   "source": [
    "#Enter Title\n",
    "name = df_train[\"Name\"]\n",
    "df_train[\"Title\"] = [i.split(\".\")[0].split(\",\")[-1].strip() for i in name]"
   ]
  },
  {
   "cell_type": "code",
   "execution_count": null,
   "id": "f728e69a",
   "metadata": {},
   "outputs": [],
   "source": [
    "df_train[\"Title\"].head()"
   ]
  },
  {
   "cell_type": "code",
   "execution_count": null,
   "id": "ffbf872e",
   "metadata": {},
   "outputs": [],
   "source": [
    "sns.countplot(x=\"Title\",data=df_train)\n",
    "plt.xticks(rotation=65)\n",
    "plt.show()"
   ]
  },
  {
   "cell_type": "code",
   "execution_count": null,
   "id": "f7a4ef11",
   "metadata": {},
   "outputs": [],
   "source": [
    "#convert to categorical\n",
    "df_train[\"Title\"]=df_train[\"Title\"].replace([\"Lady\",\"the Countess\",\"Capt\",\"Col\",\"Don\",\"Dr\",\"Major\",\"Rev\",\"Sir\",\"Jonkheer\",\"Dona\"],\"other\")\n",
    "df_train[\"Title\"] = [0 if i == \"Master\" \n",
    "                     else 1 if i == \"Miss\" or i == \"Ms\" or i == \"Mlle\" or i == \"Mrs\" \n",
    "                     else 2 if i == \"Mr\" \n",
    "                     else 3 for i in df_train[\"Title\"]]"
   ]
  },
  {
   "cell_type": "code",
   "execution_count": null,
   "id": "ed91456d",
   "metadata": {},
   "outputs": [],
   "source": [
    "df_train[\"Title\"].head()"
   ]
  },
  {
   "cell_type": "code",
   "execution_count": null,
   "id": "2f77ca92",
   "metadata": {},
   "outputs": [],
   "source": [
    "sns.countplot(x=\"Title\",data=df_train)\n",
    "plt.show()"
   ]
  },
  {
   "cell_type": "code",
   "execution_count": null,
   "id": "a225e7f1",
   "metadata": {},
   "outputs": [],
   "source": [
    "c=sns.catplot(x = \"Title\", y = \"Survived\", data = df_train, kind = \"bar\")\n",
    "c.set_xticklabels([\"Master\",\"Mrs\",\"Ms\",\"Other\"])\n",
    "c.set_ylabels(\"Survival probability\")\n",
    "plt.show()"
   ]
  },
  {
   "cell_type": "code",
   "execution_count": null,
   "id": "3461f438",
   "metadata": {},
   "outputs": [],
   "source": [
    "#converting categorical as dummy variables\n",
    "df_train.drop(labels=[\"Name\"],axis=1,inplace=True)\n",
    "df_train=pd.get_dummies(df_train,columns=[\"Title\"])\n",
    "df_train.head()"
   ]
  },
  {
   "cell_type": "code",
   "execution_count": null,
   "id": "5960ac89",
   "metadata": {},
   "outputs": [],
   "source": [
    "#Enter Family Size\n",
    "df_train[\"Famsize\"]=df_train[\"SibSp\"]+df_train[\"Parch\"]+1\n",
    "df_train.head()"
   ]
  },
  {
   "cell_type": "code",
   "execution_count": null,
   "id": "b6b4fe4c",
   "metadata": {},
   "outputs": [],
   "source": [
    "sns.countplot(x=\"Famsize\",data=df_train)\n",
    "plt.show()"
   ]
  },
  {
   "cell_type": "code",
   "execution_count": null,
   "id": "a2d28b8e",
   "metadata": {},
   "outputs": [],
   "source": [
    "sns.catplot(x=\"Famsize\",y=\"Survived\",data=df_train,kind=\"bar\")\n",
    "plt.show()"
   ]
  },
  {
   "cell_type": "code",
   "execution_count": null,
   "id": "230990ca",
   "metadata": {},
   "outputs": [],
   "source": [
    "df_train[\"Famsize\"]=[1 if i<5\n",
    "                       else 0 for i in df_train[\"Famsize\"]]\n",
    "df_train.head()"
   ]
  },
  {
   "cell_type": "code",
   "execution_count": null,
   "id": "15cf5671",
   "metadata": {},
   "outputs": [],
   "source": [
    "sns.catplot(x=\"Famsize\",y=\"Survived\",data=df_train,kind=\"bar\")\n",
    "plt.show()\n",
    "#Small families have higher survival rate"
   ]
  },
  {
   "cell_type": "code",
   "execution_count": null,
   "id": "ba6c28a3",
   "metadata": {},
   "outputs": [],
   "source": [
    "df_train=pd.get_dummies(df_train,columns=[\"Famsize\"])\n",
    "df_train.head()"
   ]
  },
  {
   "cell_type": "code",
   "execution_count": null,
   "id": "2abc935f",
   "metadata": {},
   "outputs": [],
   "source": [
    "sns.countplot(x=\"Embarked\",data=df_train)\n",
    "plt.show()"
   ]
  },
  {
   "cell_type": "code",
   "execution_count": null,
   "id": "8e5b66df",
   "metadata": {},
   "outputs": [],
   "source": [
    "sns.catplot(x=\"Embarked\",y=\"Survived\",data=df_train,kind=\"bar\")\n",
    "plt.show()"
   ]
  },
  {
   "cell_type": "code",
   "execution_count": null,
   "id": "4b8b0872",
   "metadata": {},
   "outputs": [],
   "source": [
    "df_train = pd.get_dummies(df_train, columns=[\"Embarked\"])\n",
    "df_train.head()"
   ]
  },
  {
   "cell_type": "code",
   "execution_count": null,
   "id": "b17d676d",
   "metadata": {},
   "outputs": [],
   "source": [
    "tickets=[]\n",
    "for i in df_train[\"Ticket\"]:\n",
    "    if not i.isdigit():\n",
    "        tickets.append(i.replace(\".\",\"\").replace(\"/\",\"\").strip().split(\" \")[0])\n",
    "    else:\n",
    "        tickets.append(\"x\")\n",
    "df_train[\"Ticket\"]=tickets\n",
    "df_train.head()"
   ]
  },
  {
   "cell_type": "code",
   "execution_count": null,
   "id": "163cf46e",
   "metadata": {},
   "outputs": [],
   "source": [
    "df_train=pd.get_dummies(df_train,columns=[\"Ticket\"],prefix=\"T\")\n",
    "df_train.head()"
   ]
  },
  {
   "cell_type": "code",
   "execution_count": null,
   "id": "9beac632",
   "metadata": {},
   "outputs": [],
   "source": [
    "#Pclass\n",
    "sns.countplot(x=\"Pclass\",data=df_train)\n",
    "plt.show()"
   ]
  },
  {
   "cell_type": "code",
   "execution_count": null,
   "id": "c25c8b77",
   "metadata": {},
   "outputs": [],
   "source": [
    "df_train=pd.get_dummies(df_train,columns=[\"Pclass\"])\n",
    "df_train.head()"
   ]
  },
  {
   "cell_type": "code",
   "execution_count": null,
   "id": "25b6f74a",
   "metadata": {},
   "outputs": [],
   "source": [
    "df_train=pd.get_dummies(df_train,columns=[\"Sex\"])\n",
    "df_train.head()"
   ]
  },
  {
   "cell_type": "code",
   "execution_count": null,
   "id": "ec720812",
   "metadata": {},
   "outputs": [],
   "source": [
    "df_train.drop(labels=[\"Cabin\"],axis=1,inplace=True)\n",
    "df_train.columns"
   ]
  },
  {
   "cell_type": "code",
   "execution_count": null,
   "id": "80425137",
   "metadata": {},
   "outputs": [],
   "source": [
    "#Modelling"
   ]
  },
  {
   "cell_type": "code",
   "execution_count": null,
   "id": "270891ef",
   "metadata": {},
   "outputs": [],
   "source": [
    "from sklearn.model_selection import train_test_split, StratifiedKFold, GridSearchCV\n",
    "from sklearn.linear_model import LogisticRegression\n",
    "from sklearn.svm import SVC\n",
    "from sklearn.ensemble import RandomForestClassifier, VotingClassifier\n",
    "from sklearn.neighbors import KNeighborsClassifier\n",
    "from sklearn.tree import DecisionTreeClassifier\n",
    "from sklearn.metrics import confusion_matrix,accuracy_score,classification_report"
   ]
  },
  {
   "cell_type": "code",
   "execution_count": null,
   "id": "b6cd4d7d",
   "metadata": {},
   "outputs": [],
   "source": [
    "x=int(len(df_train)*0.90)\n",
    "print(x)"
   ]
  },
  {
   "cell_type": "code",
   "execution_count": null,
   "id": "51732edb",
   "metadata": {},
   "outputs": [],
   "source": [
    "test=df_train[x:]\n",
    "test.drop(labels = [\"Survived\"],axis = 1, inplace = True)"
   ]
  },
  {
   "cell_type": "code",
   "execution_count": null,
   "id": "bb3a33d2",
   "metadata": {},
   "outputs": [],
   "source": [
    "train = df_train[:x]\n",
    "X_train=train.drop(labels=\"Survived\",axis=1)\n",
    "y_train=train[\"Survived\"]\n",
    "X_train,X_test,y_train,y_test=train_test_split(X_train,y_train,test_size=0.33,random_state=42)\n",
    "print(\"X_train\",len(X_train))\n",
    "print(\"X_test\",len(X_test))\n",
    "print(\"y_train\",len(y_train))\n",
    "print(\"y_test\",len(y_test))\n",
    "print(\"test\",len(test))"
   ]
  },
  {
   "cell_type": "code",
   "execution_count": null,
   "id": "3d76360d",
   "metadata": {},
   "outputs": [],
   "source": [
    "X_train.head()"
   ]
  },
  {
   "cell_type": "code",
   "execution_count": null,
   "id": "a5ff9c0b",
   "metadata": {},
   "outputs": [],
   "source": [
    "#Logistic Regression"
   ]
  },
  {
   "cell_type": "code",
   "execution_count": null,
   "id": "416b47bd",
   "metadata": {},
   "outputs": [],
   "source": [
    "logreg=LogisticRegression()\n",
    "logreg.fit(X_train,y_train)\n",
    "acc_log_train = round(logreg.score(X_train, y_train)*100,2) \n",
    "acc_log_test = round(logreg.score(X_test,y_test)*100,2)\n",
    "print(\"Training Accuracy:\",acc_log_train)\n",
    "print(\"Testing Accuracy:\",acc_log_test)"
   ]
  },
  {
   "cell_type": "code",
   "execution_count": null,
   "id": "073c9998",
   "metadata": {},
   "outputs": [],
   "source": [
    "random_state = 42\n",
    "classifier = [DecisionTreeClassifier(random_state = random_state),\n",
    "             SVC(random_state = random_state),\n",
    "             RandomForestClassifier(random_state = random_state),\n",
    "             LogisticRegression(random_state = random_state),\n",
    "             KNeighborsClassifier()]\n",
    "\n",
    "dt_param_grid = {\"min_samples_split\" : range(10,500,20),\n",
    "                \"max_depth\": range(1,20,2)}\n",
    "\n",
    "svc_param_grid = {\"kernel\" : [\"rbf\"],\n",
    "                 \"gamma\": [0.001, 0.01, 0.1, 1],\n",
    "                 \"C\": [1,10,50,100,200,300,1000]}\n",
    "rf_param_grid = {\"max_features\": [1,3,10],\n",
    "                \"min_samples_split\":[2,3,10],\n",
    "                \"min_samples_leaf\":[1,3,10],\n",
    "                \"bootstrap\":[False],\n",
    "                \"n_estimators\":[100,300],\n",
    "                \"criterion\":[\"gini\"]}\n",
    "\n",
    "logreg_param_grid = {\"C\":np.logspace(-3,3,7),\n",
    "                    \"penalty\": [\"l1\",\"l2\"]}\n",
    "\n",
    "knn_param_grid = {\"n_neighbors\": np.linspace(1,19,10, dtype = int).tolist(),\n",
    "                 \"weights\": [\"uniform\",\"distance\"],\n",
    "                 \"metric\":[\"euclidean\",\"manhattan\"]}\n",
    "classifier_param = [dt_param_grid,\n",
    "                   svc_param_grid,\n",
    "                   rf_param_grid,\n",
    "                   logreg_param_grid,\n",
    "                   knn_param_grid]"
   ]
  },
  {
   "cell_type": "code",
   "execution_count": null,
   "id": "fd72bf93",
   "metadata": {},
   "outputs": [],
   "source": [
    "cv_result = []\n",
    "best_estimators = []\n",
    "for i in range(len(classifier)):\n",
    "    clf = GridSearchCV(classifier[i], param_grid=classifier_param[i], cv = StratifiedKFold(n_splits = 10), scoring = \"accuracy\", n_jobs = -1,verbose = 1)\n",
    "    clf.fit(X_train,y_train)\n",
    "    cv_result.append(clf.best_score_)\n",
    "    best_estimators.append(clf.best_estimator_)\n",
    "    print(cv_result[i])"
   ]
  },
  {
   "cell_type": "code",
   "execution_count": null,
   "id": "372114b6",
   "metadata": {},
   "outputs": [],
   "source": [
    "cv_results = pd.DataFrame({\"Cross Validation Means\":cv_result, \"ML Models\":[\"DecisionTreeClassifier\", \"SVM\",\"RandomForestClassifier\",\n",
    "             \"LogisticRegression\",\n",
    "             \"KNeighborsClassifier\"]})\n",
    "\n",
    "g = sns.barplot(x=\"Cross Validation Means\", y=\"ML Models\", data = cv_results)\n",
    "g.set_xlabel(\"Mean Accuracy\")\n",
    "g.set_title(\"Cross Validation Scores\")"
   ]
  },
  {
   "cell_type": "code",
   "execution_count": null,
   "id": "b7bd6f4a",
   "metadata": {},
   "outputs": [],
   "source": [
    "votingC = VotingClassifier(estimators = [(\"dt\",best_estimators[0]),\n",
    "                                        (\"rfc\",best_estimators[2]),\n",
    "                                        (\"lr\",best_estimators[3])],\n",
    "                                        voting = \"soft\", n_jobs = -1)\n",
    "votingC = votingC.fit(X_train, y_train)\n",
    "print(accuracy_score(votingC.predict(X_test),y_test))"
   ]
  },
  {
   "cell_type": "code",
   "execution_count": null,
   "id": "ff0d4736",
   "metadata": {},
   "outputs": [],
   "source": [
    "test.head()"
   ]
  },
  {
   "cell_type": "code",
   "execution_count": null,
   "id": "ee137776",
   "metadata": {},
   "outputs": [],
   "source": [
    "clf = RandomForestClassifier(n_estimators = 100)\n",
    "clf=clf.fit(X_train, y_train)\n",
    "print(accuracy_score(clf.predict(X_test),y_test))"
   ]
  },
  {
   "cell_type": "code",
   "execution_count": null,
   "id": "205fa3c8",
   "metadata": {},
   "outputs": [],
   "source": [
    "test_survived = pd.DataFrame(votingC.predict(test)).astype(int)\n",
    "test_survived.columns=[\"Survived\"]\n",
    "test_survived.head()"
   ]
  },
  {
   "cell_type": "code",
   "execution_count": null,
   "id": "d6b98597",
   "metadata": {},
   "outputs": [],
   "source": [
    "results = pd.DataFrame({\"Passenger Id\":test[\"PassengerId\"],\"Survived\": test_survived})\n",
    "results.to_csv(\"Final.csv\", index = False)"
   ]
  }
 ],
 "metadata": {
  "kernelspec": {
   "display_name": "Python 3 (ipykernel)",
   "language": "python",
   "name": "python3"
  },
  "language_info": {
   "codemirror_mode": {
    "name": "ipython",
    "version": 3
   },
   "file_extension": ".py",
   "mimetype": "text/x-python",
   "name": "python",
   "nbconvert_exporter": "python",
   "pygments_lexer": "ipython3",
   "version": "3.11.4"
  }
 },
 "nbformat": 4,
 "nbformat_minor": 5
}
